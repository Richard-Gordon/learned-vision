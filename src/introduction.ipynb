{
 "cells": [
  {
   "cell_type": "code",
   "execution_count": 4,
   "metadata": {},
   "outputs": [],
   "source": [
    "import weights_loader"
   ]
  },
  {
   "cell_type": "code",
   "execution_count": 5,
   "metadata": {},
   "outputs": [
    {
     "name": "stdout",
     "output_type": "stream",
     "text": [
      "32 - efficientnet_b0\n",
      "24 - efficientnet_v2_m\n",
      "40 - efficientnet_b3\n",
      "64 - efficientnet_b7\n",
      "24 - quantized_shufflenet_v2_x2_0\n",
      "24 - efficientnet_v2_s\n",
      "32 - efficientnet_b1\n",
      "16 - mobilenet_v3_large\n",
      "48 - efficientnet_b5\n",
      "64 - squeezenet1_1\n",
      "32 - mobilenet_v2\n",
      "16 - ssdlite320_mobilenet_v3_large\n",
      "24 - shufflenet_v2_x2_0\n",
      "16 - quantized_mobilenet_v3_large\n",
      "32 - efficientnet_v2_l\n",
      "32 - inception_v3\n",
      "16 - fasterrcnn_mobilenet_v3_large_320_fpn\n",
      "24 - shufflenet_v2_x1_5\n",
      "32 - regnet_y_8gf\n",
      "32 - regnet_x_800mf\n",
      "24 - shufflenet_v2_x0_5\n",
      "16 - fasterrcnn_mobilenet_v3_large_fpn\n",
      "32 - regnet_x_8gf\n",
      "64 - maxvit_t\n",
      "24 - quantized_shufflenet_v2_x0_5\n",
      "32 - mnasnet1_0\n",
      "24 - quantized_shufflenet_v2_x1_0\n",
      "16 - mnasnet0_5\n",
      "32 - quantized_mobilenet_v2\n",
      "16 - mobilenet_v3_small\n",
      "32 - regnet_x_1_6gf\n",
      "48 - efficientnet_b4\n",
      "32 - regnet_x_400mf\n",
      "32 - regnet_y_128gf\n",
      "24 - mnasnet0_75\n",
      "32 - regnet_x_16gf\n",
      "24 - shufflenet_v2_x1_0\n",
      "32 - efficientnet_b2\n",
      "16 - deeplabv3_mobilenet_v3_large\n",
      "32 - regnet_x_3_2gf\n",
      "32 - regnet_y_400mf\n",
      "32 - regnet_y_800mf\n",
      "56 - efficientnet_b6\n",
      "32 - regnet_y_16gf\n",
      "32 - regnet_y_1_6gf\n",
      "32 - regnet_x_32gf\n",
      "32 - regnet_y_32gf\n",
      "16 - lraspp_mobilenet_v3_large\n",
      "32 - quantized_inception_v3\n",
      "32 - regnet_y_3_2gf\n",
      "24 - quantized_shufflenet_v2_x1_5\n",
      "40 - mnasnet1_3\n"
     ]
    }
   ],
   "source": [
    "# Load the first-layer conv2d weights\n",
    "weights = weights_loader.load_weights()\n",
    "\n",
    "# Display the list of models with number of output channels\n",
    "for model_name, model_weights in weights.items():\n",
    "    out_channels = model_weights.shape[0]\n",
    "    print(f'{out_channels} - {model_name}')"
   ]
  }
 ],
 "metadata": {
  "kernelspec": {
   "display_name": ".venv",
   "language": "python",
   "name": "python3"
  },
  "language_info": {
   "codemirror_mode": {
    "name": "ipython",
    "version": 3
   },
   "file_extension": ".py",
   "mimetype": "text/x-python",
   "name": "python",
   "nbconvert_exporter": "python",
   "pygments_lexer": "ipython3",
   "version": "3.10.12"
  }
 },
 "nbformat": 4,
 "nbformat_minor": 2
}
